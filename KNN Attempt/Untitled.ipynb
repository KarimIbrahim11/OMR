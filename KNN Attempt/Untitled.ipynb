{
 "cells": [
  {
   "cell_type": "code",
   "execution_count": 1,
   "metadata": {},
   "outputs": [],
   "source": [
    "#Always make all imports in the first cell of the notebook, run them all once.\n",
    "import cv2\n",
    "import numpy as np\n",
    "import math\n",
    "import glob\n",
    "import matplotlib.pyplot as plt\n",
    "import skimage.io as io\n",
    "from mpl_toolkits.mplot3d import Axes3D\n",
    "\n",
    "from skimage.color import rgb2gray, rgb2hsv\n",
    "from scipy import fftpack\n",
    "from scipy.signal import convolve2d\n",
    "import skimage\n",
    "from skimage.util import random_noise\n",
    "from skimage.filters import median, gaussian, threshold_otsu\n",
    "from skimage.filters import threshold_otsu, threshold_sauvola\n",
    "from skimage.filters import roberts, sobel, sobel_h, scharr\n",
    "from skimage.exposure import rescale_intensity, equalize_hist\n",
    "from skimage.morphology import binary_erosion, binary_dilation, binary_closing, binary_opening, skeletonize, thin\n",
    "from skimage import img_as_ubyte\n",
    "from skimage.io import imread, imshow\n",
    "from skimage.filters import gaussian, threshold_otsu\n",
    "from skimage.measure import moments_hu,moments_central,moments_normalized,moments\n",
    "%matplotlib inline"
   ]
  },
  {
   "cell_type": "code",
   "execution_count": 2,
   "metadata": {},
   "outputs": [],
   "source": [
    "shapes = ['triple_eighth_down', 'double_eighth_down', 'double_sixteenth_down', 'quadruple_sixteenth_down',\"Clef\",\n",
    "         \"double_flats\", \"double_sharps\", \"flat\", \"half_note\", \"quarter_note\", \"single_eighth note\",\n",
    "         \"sharp\", \"whole_note\", \"single_sixteenth_note\", \"single_32th_note\", \"chord\", \"triple_sixteenth\", \"bar_line\",   \"single_quarter_note_head up\"]"
   ]
  },
  {
   "cell_type": "code",
   "execution_count": 3,
   "metadata": {},
   "outputs": [],
   "source": [
    "def read_image(path):\n",
    "    gray = rgb2gray(io.imread(path))\n",
    "    # gray = gaussian(gray,1)\n",
    "    thresh = threshold_sauvola(gray, window_size=61)\n",
    "    normalize = gray > thresh\n",
    "    return normalize\n",
    "    "
   ]
  },
  {
   "cell_type": "code",
   "execution_count": 4,
   "metadata": {},
   "outputs": [],
   "source": [
    "def training_data(shapes):\n",
    "    x_train = []\n",
    "    y_train = []\n",
    "    for i in range(len(shapes)):\n",
    "        str1 = 'images/' \n",
    "        str2 = i\n",
    "        str3 = '/*'\n",
    "        str4 = str1 + str(str2) + str3\n",
    "        for filename in sorted(glob.glob(str4)):\n",
    "            print(filename)\n",
    "            img = read_image(filename) ## cv2.imread reads images in RGB format\n",
    "            x_train.append(img)\n",
    "            y_train.append(i)\n",
    "    return x_train, y_train"
   ]
  },
  {
   "cell_type": "code",
   "execution_count": 5,
   "metadata": {},
   "outputs": [
    {
     "name": "stdout",
     "output_type": "stream",
     "text": [
      "images/0\\1.png\n",
      "images/0\\2.png\n",
      "images/0\\3.png\n",
      "images/0\\4.png\n",
      "images/0\\5.jpg\n",
      "images/0\\6.jpg\n",
      "images/0\\99999.jpg\n",
      "images/1\\0000.JPG\n",
      "images/1\\00000000.JPG\n",
      "images/1\\09.png\n",
      "images/1\\10.JPG\n",
      "images/1\\11.JPG\n",
      "images/1\\12.png\n",
      "images/1\\13.JPG\n",
      "images/1\\234.jpg\n",
      "images/1\\245.jpeg\n",
      "images/1\\3.JPG\n",
      "images/1\\321.jpg\n",
      "images/1\\34.JPG\n",
      "images/1\\54.jpg\n",
      "images/1\\6.JPG\n",
      "images/1\\654.jpg\n",
      "images/1\\7.JPG\n",
      "images/1\\8.JPG\n",
      "images/1\\9.JPG\n",
      "images/1\\98.png\n",
      "images/1\\b463dfa05db7ac6892c2b6a449994764_t.jpeg\n",
      "images/1\\daw.JPG\n",
      "images/1\\images (2).png\n",
      "images/1\\images (3).png\n",
      "images/1\\images (4).png\n",
      "images/1\\images.png\n",
      "images/2\\1.JPG\n",
      "images/2\\12.JPG\n",
      "images/2\\1f.jpg\n",
      "images/2\\2.JPG\n",
      "images/2\\26.JPG\n",
      "images/2\\4.JPG\n",
      "images/2\\5.JPG\n",
      "images/2\\images (1).png\n",
      "images/3\\1.png\n",
      "images/3\\2.JPG\n",
      "images/3\\28.JPG\n",
      "images/3\\29.JPG\n",
      "images/3\\ad.JPG\n",
      "images/3\\adasd.JPG\n",
      "images/3\\adsds.JPG\n",
      "images/4\\00471-13.jpg\n",
      "images/4\\00542-13.jpg\n",
      "images/4\\2.png\n",
      "images/4\\3.jpg\n",
      "images/4\\3.png\n",
      "images/4\\4.jpg\n",
      "images/4\\5.JPG\n",
      "images/4\\6.jpg\n",
      "images/4\\7.png\n",
      "images/5\\123.jpg\n",
      "images/5\\2.jpg\n",
      "images/5\\213.jpg\n",
      "images/5\\23.png\n",
      "images/5\\3.jpg\n",
      "images/5\\33.png\n",
      "images/5\\44.png\n",
      "images/6\\00003-10.jpg\n",
      "images/6\\00464-10.jpg\n",
      "images/6\\00494-10.jpg\n",
      "images/6\\00601-10.jpg\n",
      "images/6\\00761-10.jpg\n",
      "images/6\\00862-10.jpg\n",
      "images/6\\00879-10.jpg\n",
      "images/6\\00895-10.jpg\n",
      "images/6\\1.jpg\n",
      "images/6\\18.jpg\n",
      "images/6\\Screenshot 2021-01-12 080552.jpg\n",
      "images/6\\Screenshot 2021-01-12 0849203.jpg\n",
      "images/7\\00001-1.jpg\n",
      "images/7\\00024-1.jpg\n",
      "images/7\\00055-1.jpg\n",
      "images/7\\00083-1.jpg\n",
      "images/7\\00088-1.jpg\n",
      "images/7\\00092-1.jpg\n",
      "images/7\\01430-1.jpg\n",
      "images/7\\01436-1.jpg\n",
      "images/7\\01437-1.jpg\n",
      "images/7\\1.jpg\n",
      "images/7\\2.jpg\n",
      "images/7\\3.jpg\n",
      "images/7\\4.jpg\n",
      "images/8\\00023-17.jpg\n",
      "images/8\\00044-17.jpg\n",
      "images/8\\00066-17.jpg\n",
      "images/8\\00090-17.jpg\n",
      "images/8\\00123-17.jpg\n",
      "images/8\\00184-17.jpg\n",
      "images/8\\00248-17.jpg\n",
      "images/8\\00270-17.jpg\n",
      "images/8\\00307-17.jpg\n",
      "images/8\\00350-17.jpg\n",
      "images/8\\00488-17.jpg\n",
      "images/8\\00494-17.jpg\n",
      "images/8\\00520-17.jpg\n",
      "images/8\\00536-17.jpg\n",
      "images/8\\00546-17.jpg\n",
      "images/8\\00557-17.jpg\n",
      "images/8\\00558-17.jpg\n",
      "images/8\\00593-17.jpg\n",
      "images/8\\00612-17.jpg\n",
      "images/8\\00641-17.jpg\n",
      "images/8\\00668-17.jpg\n",
      "images/8\\00683-17.jpg\n",
      "images/8\\00727-17.jpg\n",
      "images/8\\00751-17.jpg\n",
      "images/8\\00763-17.jpg\n",
      "images/8\\00806-17.jpg\n",
      "images/8\\00841-17.jpg\n",
      "images/8\\00888-17.jpg\n",
      "images/8\\00919-17.jpg\n",
      "images/8\\00947-17.jpg\n",
      "images/8\\01036-17.jpg\n",
      "images/8\\01063-17.jpg\n",
      "images/8\\01282-17.jpg\n",
      "images/8\\01305-17.jpg\n",
      "images/8\\01384-17.jpg\n",
      "images/8\\01392-17.jpg\n",
      "images/8\\01462-17.jpg\n",
      "images/8\\01497-17.jpg\n",
      "images/8\\1.JPG\n",
      "images/8\\1.png\n",
      "images/8\\17.JPG\n",
      "images/8\\2.jpg\n",
      "images/8\\2.png\n",
      "images/8\\23.JPG\n",
      "images/8\\26.JPG\n",
      "images/8\\3.jpg\n",
      "images/8\\345.png\n",
      "images/8\\4.JPG\n",
      "images/8\\4.png\n",
      "images/8\\5.jpg\n",
      "images/8\\88.JPG\n",
      "images/8\\99.JPG\n",
      "images/8\\afssssssss.jpg\n",
      "images/8\\sdfasdfasd.jpg\n",
      "images/9\\00324-8.jpg\n",
      "images/9\\00507-8.jpg\n",
      "images/9\\00560-8.jpg\n",
      "images/9\\00569-8.jpg\n",
      "images/9\\00584-8.jpg\n",
      "images/9\\00689-8.jpg\n",
      "images/9\\00695-8.jpg\n",
      "images/9\\00696-8.jpg\n",
      "images/9\\00742-8.jpg\n",
      "images/9\\00767-8.jpg\n",
      "images/9\\00839-8.jpg\n",
      "images/9\\00884-8.jpg\n",
      "images/9\\02137-8.jpg\n",
      "images/9\\02171-8.jpg\n",
      "images/9\\02175-8.jpg\n",
      "images/9\\02265-8.jpg\n",
      "images/9\\02302-8.jpg\n",
      "images/9\\02450-8.jpg\n",
      "images/9\\02530-8.jpg\n",
      "images/9\\02572-8.jpg\n",
      "images/9\\02615-8.jpg\n",
      "images/9\\1.JPG\n",
      "images/9\\1.png\n",
      "images/9\\12345.png\n",
      "images/9\\18.JPG\n",
      "images/9\\2.png\n",
      "images/9\\3.jpg\n",
      "images/9\\3.png\n",
      "images/9\\5.JPG\n",
      "images/9\\6.JPG\n",
      "images/9\\7.JPG\n",
      "images/9\\9999.jpg\n",
      "images/9\\as.JPG\n",
      "images/10\\00163-0.jpg\n",
      "images/10\\00287-0.jpg\n",
      "images/10\\00299-0.jpg\n",
      "images/10\\00355-0.jpg\n",
      "images/10\\00402-0.jpg\n",
      "images/10\\00476-0.jpg\n",
      "images/10\\00514-0.jpg\n",
      "images/10\\00566-0.jpg\n",
      "images/10\\00608-0.jpg\n",
      "images/10\\00653-0.jpg\n",
      "images/10\\00682-0.jpg\n",
      "images/10\\00702-0.jpg\n",
      "images/10\\00716-0.jpg\n",
      "images/10\\00758-0.jpg\n",
      "images/10\\00789-0.jpg\n",
      "images/10\\00831-0.jpg\n",
      "images/10\\00838-0.jpg\n",
      "images/10\\00872-0.jpg\n",
      "images/10\\00874-0.jpg\n",
      "images/10\\00885-0.jpg\n",
      "images/10\\00886-0.jpg\n",
      "images/10\\00896-0.jpg\n",
      "images/10\\01022-0.jpg\n",
      "images/10\\01186-0.jpg\n",
      "images/10\\1.png\n",
      "images/10\\3.png\n",
      "images/10\\4.jpg\n",
      "images/10\\5.JPG\n",
      "images/10\\sdsdsd.jpg\n",
      "images/11\\00187-11.jpg\n",
      "images/11\\00628-11.jpg\n",
      "images/11\\01326-11.jpg\n",
      "images/11\\01367-11.jpg\n",
      "images/11\\01372-11.jpg\n",
      "images/11\\01435-11.jpg\n",
      "images/11\\01519-11.jpg\n",
      "images/11\\01563-11.jpg\n",
      "images/11\\01612-11.jpg\n",
      "images/11\\01654-11.jpg\n",
      "images/11\\01678-11.jpg\n",
      "images/11\\01765-11.jpg\n",
      "images/11\\01767-11.jpg\n",
      "images/11\\1.png\n",
      "images/11\\2.jpg\n",
      "images/11\\215.png\n",
      "images/11\\4.jpg\n",
      "images/11\\5.png\n",
      "images/11\\6.jpg\n",
      "images/11\\98765.png\n",
      "images/11\\IMG-20150411-WA0000.jpg\n",
      "images/11\\Screenshot 2021-01-12 080308.jpg\n",
      "images/11\\Screenshot 2021-01-12 080449.jpg\n",
      "images/11\\Screenshot 2021-01-12 080517.jpg\n",
      "images/11\\Screenshot 2021-01-12 080628.jpg\n",
      "images/12\\00045-24.jpg\n",
      "images/12\\00323-24.jpg\n",
      "images/12\\00432-24.jpg\n",
      "images/12\\00449-24.jpg\n",
      "images/12\\00477-24.jpg\n",
      "images/12\\00480-24.jpg\n",
      "images/12\\00564-24.jpg\n",
      "images/12\\00660-24.jpg\n",
      "images/12\\00699-24.jpg\n",
      "images/12\\00825-24.jpg\n",
      "images/12\\00909-24.jpg\n",
      "images/12\\00914-24.jpg\n",
      "images/12\\00961-24.jpg\n",
      "images/12\\00962-24.jpg\n",
      "images/12\\00964-24.jpg\n",
      "images/12\\01159-24.jpg\n",
      "images/12\\01223-24.jpg\n",
      "images/12\\01272-24.jpg\n",
      "images/12\\01285-24.jpg\n",
      "images/12\\01324-24.jpg\n",
      "images/12\\01449-24.jpg\n",
      "images/12\\01465-24.jpg\n",
      "images/12\\1.jpg\n",
      "images/12\\1.png\n",
      "images/12\\2.jpg\n",
      "images/12\\2.png\n",
      "images/12\\5555.jpg\n",
      "images/12\\6.png\n",
      "images/13\\00261-7.jpg\n",
      "images/13\\00325-7.jpg\n",
      "images/13\\00465-7.jpg\n",
      "images/13\\00482-7.jpg\n",
      "images/13\\00570-7.jpg\n",
      "images/13\\00655-7.jpg\n",
      "images/13\\00662-7.jpg\n",
      "images/13\\00694-7.jpg\n",
      "images/13\\00721-7.jpg\n",
      "images/13\\00840-7.jpg\n",
      "images/13\\00850-7.jpg\n",
      "images/13\\00889-7.jpg\n",
      "images/13\\00905-7.jpg\n",
      "images/13\\00929-7.jpg\n",
      "images/13\\01001-7.jpg\n",
      "images/13\\01047-7.jpg\n",
      "images/13\\1.jpg\n",
      "images/13\\3.jpg\n",
      "images/13\\4.jpg\n",
      "images/13\\5.png\n",
      "images/13\\6.png\n",
      "images/13\\8.JPG\n",
      "images/14\\00156-3.jpg\n",
      "images/14\\00164-3.jpg\n",
      "images/14\\00217-3.jpg\n",
      "images/14\\00220-3.jpg\n",
      "images/14\\1.JPG\n",
      "images/14\\12.JPG\n",
      "images/14\\2.JPG\n",
      "images/14\\Screenshot 2021-01-12 084012.jpg\n",
      "images/14\\Screenshot 2021-01-12 084041.jpg\n",
      "images/14\\Screenshot 2021-01-12 084056.jpg\n",
      "images/14\\Screenshot 2021-01-12 084137.jpg\n",
      "images/15\\,.JPG\n",
      "images/15\\10.JPG\n",
      "images/15\\11.JPG\n",
      "images/15\\12.JPG\n",
      "images/15\\14.JPG\n",
      "images/15\\2.JPG\n",
      "images/15\\3.JPG\n",
      "images/15\\4.JPG\n",
      "images/15\\5.JPG\n",
      "images/15\\6.JPG\n",
      "images/15\\7.JPG\n",
      "images/15\\9.JPG\n",
      "images/15\\bkjb.JPG\n"
     ]
    }
   ],
   "source": [
    "x_train, y_train = training_data(shapes)"
   ]
  },
  {
   "cell_type": "code",
   "execution_count": 6,
   "metadata": {},
   "outputs": [
    {
     "name": "stdout",
     "output_type": "stream",
     "text": [
      "(303,)\n"
     ]
    }
   ],
   "source": [
    "x_train = np.asarray(x_train)\n",
    "y_train = np.asarray(y_train)\n",
    "print(x_train.shape)"
   ]
  },
  {
   "cell_type": "code",
   "execution_count": 7,
   "metadata": {},
   "outputs": [],
   "source": [
    "def show_images(images, titles=None):\n",
    "    # This function is used to show image(s) with titles by sending an array of images and an array of associated titles.\n",
    "    # images[0] will be drawn with the title titles[0] if exists\n",
    "    # You aren't required to understand this function, use it as-is.\n",
    "    n_ims = len(images)\n",
    "    if titles is None: titles = ['(%d)' % i for i in range(1, n_ims + 1)]\n",
    "    fig = plt.figure()\n",
    "    n = 1\n",
    "    for image, title in zip(images, titles):\n",
    "        a = fig.add_subplot(1, n_ims, n)\n",
    "        if image.ndim == 2:\n",
    "            plt.gray()\n",
    "        plt.imshow(image)\n",
    "        a.set_title(title)\n",
    "        plt.axis('off')\n",
    "        n += 1\n",
    "    fig.set_size_inches(np.array(fig.get_size_inches()) * n_ims)\n",
    "    plt.show()"
   ]
  },
  {
   "cell_type": "code",
   "execution_count": 8,
   "metadata": {},
   "outputs": [
    {
     "name": "stdout",
     "output_type": "stream",
     "text": [
      "[ 0  0  0  0  0  0  0  1  1  1  1  1  1  1  1  1  1  1  1  1  1  1  1  1\n",
      "  1  1  1  1  1  1  1  1  2  2  2  2  2  2  2  2  3  3  3  3  3  3  3  4\n",
      "  4  4  4  4  4  4  4  4  5  5  5  5  5  5  5  6  6  6  6  6  6  6  6  6\n",
      "  6  6  6  7  7  7  7  7  7  7  7  7  7  7  7  7  8  8  8  8  8  8  8  8\n",
      "  8  8  8  8  8  8  8  8  8  8  8  8  8  8  8  8  8  8  8  8  8  8  8  8\n",
      "  8  8  8  8  8  8  8  8  8  8  8  8  8  8  8  8  8  8  8  8  8  8  9  9\n",
      "  9  9  9  9  9  9  9  9  9  9  9  9  9  9  9  9  9  9  9  9  9  9  9  9\n",
      "  9  9  9  9  9  9  9 10 10 10 10 10 10 10 10 10 10 10 10 10 10 10 10 10\n",
      " 10 10 10 10 10 10 10 10 10 10 10 10 11 11 11 11 11 11 11 11 11 11 11 11\n",
      " 11 11 11 11 11 11 11 11 11 11 11 11 11 12 12 12 12 12 12 12 12 12 12 12\n",
      " 12 12 12 12 12 12 12 12 12 12 12 12 12 12 12 12 12 13 13 13 13 13 13 13\n",
      " 13 13 13 13 13 13 13 13 13 13 13 13 13 13 13 14 14 14 14 14 14 14 14 14\n",
      " 14 14 15 15 15 15 15 15 15 15 15 15 15 15 15]\n"
     ]
    }
   ],
   "source": [
    "# show_images(x_train)\n",
    "print(y_train)"
   ]
  },
  {
   "cell_type": "code",
   "execution_count": 9,
   "metadata": {},
   "outputs": [],
   "source": [
    "def find_regionprop(img):\n",
    "    labeled_image = skimage.measure.label(img, connectivity=2, return_num=True, background=1)\n",
    "    components = skimage.measure.regionprops(labeled_image[0])\n",
    "    return components"
   ]
  },
  {
   "cell_type": "code",
   "execution_count": 10,
   "metadata": {},
   "outputs": [],
   "source": [
    "def regionVolume(region):\n",
    "    area = region.shape[0]*region.shape[1]\n",
    "    b_area = len(region == 0)\n",
    "    # print(\"Black area= \", b_area)\n",
    "    vol = b_area/area\n",
    "    return vol"
   ]
  },
  {
   "cell_type": "code",
   "execution_count": 11,
   "metadata": {},
   "outputs": [],
   "source": [
    "def region16(image):\n",
    "    regions = []\n",
    "    for i in range(2):\n",
    "        for j in range(2):\n",
    "            regions.append(image[i*image.shape[0]//2: (i+1)*image.shape[0]//2, j*image.shape[1]//2 : (j+1)*image.shape[1]//2])\n",
    "        \n",
    "    return regions"
   ]
  },
  {
   "cell_type": "code",
   "execution_count": 12,
   "metadata": {},
   "outputs": [],
   "source": [
    "def extract_features(component):\n",
    "    features = []\n",
    "   # print(\"ana hena ya salama\",len(components))\n",
    "    for component in components:\n",
    "        if component.area >=44:\n",
    "            # show_images([component.image])\n",
    "            # feature 1\n",
    "            features.append(component.area/component.bbox_area)\n",
    "            features.append(component.image.shape[0]/component.image.shape[1])\n",
    "            # feature 2\n",
    "            moments = cv2.HuMoments(cv2.moments((component.image).astype(np.uint8))).flatten()\n",
    "            #print(m)\n",
    "            # mu = moments_central(component.image)\n",
    "            # nu = moments_normalized(mu)\n",
    "            \n",
    "            #for moment in moments:\n",
    "            # print(len(moments_hu(nu)))\n",
    "            #print(len(moments))\n",
    "            for moment in moments: # moments_hu(nu):\n",
    "                features.append(moment)\n",
    "            # feature 3\n",
    "            regions = region16(component.image)\n",
    "            for region in regions:\n",
    "                volume = regionVolume(region)\n",
    "                features.append(volume)\n",
    "            #print(\"features:\",len(features))\n",
    "    return features"
   ]
  },
  {
   "cell_type": "code",
   "execution_count": 13,
   "metadata": {},
   "outputs": [],
   "source": [
    "number_of_features = 13\n",
    "training_features = np.zeros((x_train.shape[0],number_of_features))"
   ]
  },
  {
   "cell_type": "code",
   "execution_count": 14,
   "metadata": {
    "scrolled": true
   },
   "outputs": [],
   "source": [
    "for i in range(training_features.shape[0]):\n",
    "    components = find_regionprop(x_train[i])\n",
    "    # print(y_train[i])\n",
    "    features = extract_features(components)\n",
    "    # print(features)\n",
    "    training_features[i,:] = features\n",
    "    "
   ]
  },
  {
   "cell_type": "code",
   "execution_count": 15,
   "metadata": {},
   "outputs": [],
   "source": [
    "def calculateDistance(x1, x2):\n",
    "    distance = np.linalg.norm(x1-x2)\n",
    "    return distance"
   ]
  },
  {
   "cell_type": "code",
   "execution_count": 16,
   "metadata": {},
   "outputs": [],
   "source": [
    "def KNN(test_point, training_features, y_train, k): \n",
    "    classification = 0\n",
    "    \n",
    "    minDist = [999999 for i in range(k)]\n",
    "    minClass = [3 for i in range(k)]\n",
    "    \n",
    "    \n",
    "    features_triple_eighth_down = training_features[y_train==0]\n",
    "    features_double_eighth_down = training_features[y_train==1]\n",
    "    features_double_sixteenth_down = training_features[y_train==2]\n",
    "    features_quadruple_sixteenth_down =  training_features[y_train==3]\n",
    "    features_clef =  training_features[y_train==4]\n",
    "    features_double_flat =  training_features[y_train==5]\n",
    "    features_double_sharp =  training_features[y_train==6]\n",
    "    features_flat = training_features[y_train==7]\n",
    "    features_half_note = training_features[y_train==8]\n",
    "    features_quarter_note = training_features[y_train==9]\n",
    "    features_eighth_note = training_features[y_train==10]\n",
    "    features_sharp = training_features[y_train==11]\n",
    "    #features_natural = training_features[y_train==12]\n",
    "    features_whole_note = training_features[y_train==12]\n",
    "    features_sixteenth_note = training_features[y_train==13]\n",
    "    features_32th_note = training_features[y_train==14]\n",
    "    # features_bar_line = training_features[y_train==15]\n",
    "    # features_triple_sixteenth = training_features[y_train==15]\n",
    "    features_chord = training_features[y_train==15]\n",
    "\n",
    "    \n",
    "    for i in features_triple_eighth_down:\n",
    "        c = calculateDistance(i,test_point)\n",
    "        if c < max(minDist):\n",
    "            minDist[minDist.index(max(minDist))] = c\n",
    "            minClass[minDist.index(max(minDist))] = 0\n",
    "    for i in features_double_eighth_down:\n",
    "        c = calculateDistance(i,test_point)\n",
    "        if c < max(minDist):\n",
    "            minDist[minDist.index(max(minDist))] = c\n",
    "            minClass[minDist.index(max(minDist))] = 1\n",
    "    for i in features_double_sixteenth_down:\n",
    "        c = calculateDistance(i,test_point)\n",
    "        if c < max(minDist):\n",
    "            minDist[minDist.index(max(minDist))] = c\n",
    "            minClass[minDist.index(max(minDist))] = 2\n",
    "    for i in features_quadruple_sixteenth_down:\n",
    "        c = calculateDistance(i,test_point)\n",
    "        if c < max(minDist):\n",
    "            minDist[minDist.index(max(minDist))] = c\n",
    "            minClass[minDist.index(max(minDist))] = 3\n",
    "    for i in features_clef:\n",
    "        c = calculateDistance(i,test_point)\n",
    "        if c < max(minDist):\n",
    "            minDist[minDist.index(max(minDist))] = c\n",
    "            minClass[minDist.index(max(minDist))] = 4\n",
    "    for i in features_double_flat:\n",
    "        c = calculateDistance(i,test_point)\n",
    "        if c < max(minDist):\n",
    "            minDist[minDist.index(max(minDist))] = c\n",
    "            minClass[minDist.index(max(minDist))] = 5\n",
    "    for i in features_double_sharp:\n",
    "        c = calculateDistance(i,test_point)\n",
    "        if c < max(minDist):\n",
    "            minDist[minDist.index(max(minDist))] = c\n",
    "            minClass[minDist.index(max(minDist))] = 6\n",
    "    for i in features_flat:\n",
    "        c = calculateDistance(i,test_point)\n",
    "        if c < max(minDist):\n",
    "            minDist[minDist.index(max(minDist))] = c\n",
    "            minClass[minDist.index(max(minDist))] = 7\n",
    "    for i in features_half_note:\n",
    "        c = calculateDistance(i,test_point)\n",
    "        if c < max(minDist):\n",
    "            minDist[minDist.index(max(minDist))] = c\n",
    "            minClass[minDist.index(max(minDist))] = 8\n",
    "    for i in features_quarter_note:\n",
    "        c = calculateDistance(i,test_point)\n",
    "        if c < max(minDist):\n",
    "            minDist[minDist.index(max(minDist))] = c\n",
    "            minClass[minDist.index(max(minDist))] = 9\n",
    "    for i in features_eighth_note:\n",
    "        c = calculateDistance(i,test_point)\n",
    "        if c < max(minDist):\n",
    "            minDist[minDist.index(max(minDist))] = c\n",
    "            minClass[minDist.index(max(minDist))] = 10\n",
    "    for i in features_sharp:\n",
    "        c = calculateDistance(i,test_point)\n",
    "        if c < max(minDist):\n",
    "            minDist[minDist.index(max(minDist))] = c\n",
    "            minClass[minDist.index(max(minDist))] = 11\n",
    "    for i in features_whole_note:\n",
    "        c = calculateDistance(i,test_point)\n",
    "        if c < max(minDist):\n",
    "            minDist[minDist.index(max(minDist))] = c\n",
    "            minClass[minDist.index(max(minDist))] = 12\n",
    "    for i in features_sixteenth_note:\n",
    "        c = calculateDistance(i,test_point)\n",
    "        if c < max(minDist):\n",
    "            minDist[minDist.index(max(minDist))] = c\n",
    "            minClass[minDist.index(max(minDist))] = 13\n",
    "    for i in features_32th_note:\n",
    "        c = calculateDistance(i,test_point)\n",
    "        if c < max(minDist):\n",
    "            minDist[minDist.index(max(minDist))] = c\n",
    "            minClass[minDist.index(max(minDist))] = 14\n",
    "    for i in features_chord:\n",
    "        c = calculateDistance(i,test_point)\n",
    "        if c < max(minDist):\n",
    "            minDist[minDist.index(max(minDist))] = c\n",
    "            minClass[minDist.index(max(minDist))] = 15\n",
    "    '''\n",
    "    for i in features_bar_line:\n",
    "        c = calculateDistance(i,test_point)\n",
    "        if c < max(minDist):\n",
    "            minDist[minDist.index(max(minDist))] = c\n",
    "            minClass[minDist.index(max(minDist))] = 15\n",
    "    '''\n",
    "    '''\n",
    "    for i in features_triple_sixteenth:\n",
    "        c = calculateDistance(i,test_point)\n",
    "        if c < max(minDist):\n",
    "            minDist[minDist.index(max(minDist))] = c\n",
    "            minClass[minDist.index(max(minDist))] = 15\n",
    "    '''\n",
    "    '''\n",
    "    for i in features_natural:\n",
    "        c = calculateDistance(i,test_point)\n",
    "        if c < max(minDist):\n",
    "            minDist[minDist.index(max(minDist))] = c\n",
    "            minClass[minDist.index(max(minDist))] = 12\n",
    "    '''\n",
    "            \n",
    "    # ------------------------------------------------------------------------------------------------------\n",
    "    \n",
    "    zero = minClass.count(0)\n",
    "    one = minClass.count(1)\n",
    "    two = minClass.count(2)\n",
    "    three= minClass.count(3)\n",
    "    four= minClass.count(4)\n",
    "    five= minClass.count(5)\n",
    "    six = minClass.count(6)\n",
    "    seven = minClass.count(7)\n",
    "    eight = minClass.count(8)\n",
    "    nine = minClass.count(9)  \n",
    "    ten = minClass.count(10)\n",
    "    eleven = minClass.count(11)\n",
    "    twelve = minClass.count(12)\n",
    "    thirteen = minClass.count(13)\n",
    "    fourteen = minClass.count(14)\n",
    "    fifteen = minClass.count(15)\n",
    "    # fifteen = minClass.count(15)\n",
    "    # sixteen = minClass.count(16)\n",
    "    \n",
    "    temp = [zero,one,two,three,four,five,six,seven,eight,nine,ten,eleven,twelve,thirteen, fourteen, fifteen] #,fifteen] # ,sixteen]\n",
    "    classification = temp.index(max(temp))\n",
    "    return classification"
   ]
  },
  {
   "cell_type": "code",
   "execution_count": 22,
   "metadata": {},
   "outputs": [
    {
     "data": {
      "image/png": "[encoded data removed]",
      "text/plain": [
       "<Figure size 432x288 with 1 Axes>"
      ]
     },
     "metadata": {
      "needs_background": "light"
     },
     "output_type": "display_data"
    },
    {
     "name": "stdout",
     "output_type": "stream",
     "text": [
      "Actual class : double_eighth_down\n",
      "---------------------------------------\n",
      "K-Nearest Neighbours Prediction          : double_eighth_down\n",
      "===========================================================================\n"
     ]
    },
    {
     "data": {
      "image/png": "[encoded data removed]",
      "text/plain": [
       "<Figure size 432x288 with 1 Axes>"
      ]
     },
     "metadata": {
      "needs_background": "light"
     },
     "output_type": "display_data"
    },
    {
     "name": "stdout",
     "output_type": "stream",
     "text": [
      "Actual class : double_eighth_down\n",
      "---------------------------------------\n",
      "K-Nearest Neighbours Prediction          : double_eighth_down\n",
      "===========================================================================\n"
     ]
    },
    {
     "data": {
      "image/png": "[encoded data removed]",
      "text/plain": [
       "<Figure size 432x288 with 1 Axes>"
      ]
     },
     "metadata": {
      "needs_background": "light"
     },
     "output_type": "display_data"
    },
    {
     "name": "stdout",
     "output_type": "stream",
     "text": [
      "Actual class : double_sixteenth_down\n",
      "---------------------------------------\n",
      "K-Nearest Neighbours Prediction          : double_eighth_down\n",
      "===========================================================================\n"
     ]
    },
    {
     "data": {
      "image/png": "[encoded data removed]",
      "text/plain": [
       "<Figure size 432x288 with 1 Axes>"
      ]
     },
     "metadata": {
      "needs_background": "light"
     },
     "output_type": "display_data"
    },
    {
     "name": "stdout",
     "output_type": "stream",
     "text": [
      "Actual class : quadruple_sixteenth_down\n",
      "---------------------------------------\n",
      "K-Nearest Neighbours Prediction          : quadruple_sixteenth_down\n",
      "===========================================================================\n"
     ]
    },
    {
     "data": {
      "image/png": "[encoded data removed]",
      "text/plain": [
       "<Figure size 432x288 with 1 Axes>"
      ]
     },
     "metadata": {
      "needs_background": "light"
     },
     "output_type": "display_data"
    },
    {
     "name": "stdout",
     "output_type": "stream",
     "text": [
      "Actual class : triple_eighth_down\n",
      "---------------------------------------\n",
      "K-Nearest Neighbours Prediction          : double_eighth_down\n",
      "===========================================================================\n"
     ]
    },
    {
     "data": {
      "image/png": "[encoded data removed]",
      "text/plain": [
       "<Figure size 432x288 with 1 Axes>"
      ]
     },
     "metadata": {
      "needs_background": "light"
     },
     "output_type": "display_data"
    },
    {
     "name": "stdout",
     "output_type": "stream",
     "text": [
      "Actual class : Clef\n",
      "---------------------------------------\n",
      "K-Nearest Neighbours Prediction          : Clef\n",
      "===========================================================================\n"
     ]
    },
    {
     "data": {
      "image/png": "[encoded data removed]",
      "text/plain": [
       "<Figure size 432x288 with 1 Axes>"
      ]
     },
     "metadata": {
      "needs_background": "light"
     },
     "output_type": "display_data"
    },
    {
     "name": "stdout",
     "output_type": "stream",
     "text": [
      "Actual class : double_flats\n",
      "---------------------------------------\n",
      "K-Nearest Neighbours Prediction          : double_flats\n",
      "===========================================================================\n"
     ]
    },
    {
     "data": {
      "image/png": "[encoded data removed]",
      "text/plain": [
       "<Figure size 432x288 with 1 Axes>"
      ]
     },
     "metadata": {
      "needs_background": "light"
     },
     "output_type": "display_data"
    },
    {
     "name": "stdout",
     "output_type": "stream",
     "text": [
      "Actual class : double_sharps\n",
      "---------------------------------------\n",
      "K-Nearest Neighbours Prediction          : double_sharps\n",
      "===========================================================================\n"
     ]
    },
    {
     "data": {
      "image/png": "[encoded data removed]",
      "text/plain": [
       "<Figure size 432x288 with 1 Axes>"
      ]
     },
     "metadata": {
      "needs_background": "light"
     },
     "output_type": "display_data"
    },
    {
     "name": "stdout",
     "output_type": "stream",
     "text": [
      "Actual class : flat\n",
      "---------------------------------------\n",
      "K-Nearest Neighbours Prediction          : flat\n",
      "===========================================================================\n"
     ]
    },
    {
     "data": {
      "image/png": "[encoded data removed]",
      "text/plain": [
       "<Figure size 432x288 with 1 Axes>"
      ]
     },
     "metadata": {
      "needs_background": "light"
     },
     "output_type": "display_data"
    },
    {
     "name": "stdout",
     "output_type": "stream",
     "text": [
      "Actual class : half_note\n",
      "---------------------------------------\n",
      "K-Nearest Neighbours Prediction          : quarter_note\n",
      "===========================================================================\n"
     ]
    },
    {
     "data": {
      "image/png": "[encoded data removed]",
      "text/plain": [
       "<Figure size 432x288 with 1 Axes>"
      ]
     },
     "metadata": {
      "needs_background": "light"
     },
     "output_type": "display_data"
    },
    {
     "name": "stdout",
     "output_type": "stream",
     "text": [
      "Actual class : half_note\n",
      "---------------------------------------\n",
      "K-Nearest Neighbours Prediction          : quarter_note\n",
      "===========================================================================\n"
     ]
    },
    {
     "data": {
      "image/png": "[encoded data removed]",
      "text/plain": [
       "<Figure size 432x288 with 1 Axes>"
      ]
     },
     "metadata": {
      "needs_background": "light"
     },
     "output_type": "display_data"
    },
    {
     "name": "stdout",
     "output_type": "stream",
     "text": [
      "Actual class : half_note\n",
      "---------------------------------------\n",
      "K-Nearest Neighbours Prediction          : half_note\n",
      "===========================================================================\n"
     ]
    },
    {
     "data": {
      "image/png": "[encoded data removed]",
      "text/plain": [
       "<Figure size 432x288 with 1 Axes>"
      ]
     },
     "metadata": {
      "needs_background": "light"
     },
     "output_type": "display_data"
    },
    {
     "name": "stdout",
     "output_type": "stream",
     "text": [
      "Actual class : quarter_note\n",
      "---------------------------------------\n",
      "K-Nearest Neighbours Prediction          : quarter_note\n",
      "===========================================================================\n"
     ]
    },
    {
     "data": {
      "image/png": "[encoded data removed]",
      "text/plain": [
       "<Figure size 432x288 with 1 Axes>"
      ]
     },
     "metadata": {
      "needs_background": "light"
     },
     "output_type": "display_data"
    },
    {
     "name": "stdout",
     "output_type": "stream",
     "text": [
      "Actual class : single_eighth note\n",
      "---------------------------------------\n",
      "K-Nearest Neighbours Prediction          : single_eighth note\n",
      "===========================================================================\n"
     ]
    },
    {
     "data": {
      "image/png": "[encoded data removed]",
      "text/plain": [
       "<Figure size 432x288 with 1 Axes>"
      ]
     },
     "metadata": {
      "needs_background": "light"
     },
     "output_type": "display_data"
    },
    {
     "name": "stdout",
     "output_type": "stream",
     "text": [
      "Actual class : sharp\n",
      "---------------------------------------\n",
      "K-Nearest Neighbours Prediction          : sharp\n",
      "===========================================================================\n"
     ]
    },
    {
     "data": {
      "image/png": "[encoded data removed]",
      "text/plain": [
       "<Figure size 432x288 with 1 Axes>"
      ]
     },
     "metadata": {
      "needs_background": "light"
     },
     "output_type": "display_data"
    },
    {
     "name": "stdout",
     "output_type": "stream",
     "text": [
      "Actual class : sharp\n",
      "---------------------------------------\n",
      "K-Nearest Neighbours Prediction          : sharp\n",
      "===========================================================================\n"
     ]
    },
    {
     "data": {
      "image/png": "[encoded data removed]",
      "text/plain": [
       "<Figure size 432x288 with 1 Axes>"
      ]
     },
     "metadata": {
      "needs_background": "light"
     },
     "output_type": "display_data"
    },
    {
     "name": "stdout",
     "output_type": "stream",
     "text": [
      "Actual class : whole_note\n",
      "---------------------------------------\n",
      "K-Nearest Neighbours Prediction          : whole_note\n",
      "===========================================================================\n"
     ]
    },
    {
     "data": {
      "image/png": "[encoded data removed]",
      "text/plain": [
       "<Figure size 432x288 with 1 Axes>"
      ]
     },
     "metadata": {
      "needs_background": "light"
     },
     "output_type": "display_data"
    },
    {
     "name": "stdout",
     "output_type": "stream",
     "text": [
      "Actual class : single_sixteenth_note\n",
      "---------------------------------------\n",
      "K-Nearest Neighbours Prediction          : single_sixteenth_note\n",
      "===========================================================================\n"
     ]
    },
    {
     "data": {
      "image/png": "[encoded data removed]",
      "text/plain": [
       "<Figure size 432x288 with 1 Axes>"
      ]
     },
     "metadata": {
      "needs_background": "light"
     },
     "output_type": "display_data"
    },
    {
     "name": "stdout",
     "output_type": "stream",
     "text": [
      "Actual class : single_32th_note\n",
      "---------------------------------------\n",
      "K-Nearest Neighbours Prediction          : single_32th_note\n",
      "===========================================================================\n"
     ]
    },
    {
     "data": {
      "image/png": "[encoded data removed]",
      "text/plain": [
       "<Figure size 432x288 with 1 Axes>"
      ]
     },
     "metadata": {
      "needs_background": "light"
     },
     "output_type": "display_data"
    },
    {
     "name": "stdout",
     "output_type": "stream",
     "text": [
      "Actual class : chord\n",
      "---------------------------------------\n",
      "K-Nearest Neighbours Prediction          : chord\n",
      "===========================================================================\n"
     ]
    },
    {
     "ename": "ValueError",
     "evalue": "Could not find a format to read the specified file in single-image mode",
     "output_type": "error",
     "traceback": [
      "\u001b[1;31m---------------------------------------------------------------------------\u001b[0m",
      "\u001b[1;31mValueError\u001b[0m                                Traceback (most recent call last)",
      "\u001b[1;32m<ipython-input-22-b1e384698935>\u001b[0m in \u001b[0;36m<module>\u001b[1;34m\u001b[0m\n\u001b[0;32m      9\u001b[0m \u001b[1;32mfor\u001b[0m \u001b[0mi\u001b[0m \u001b[1;32min\u001b[0m \u001b[0mrange\u001b[0m\u001b[1;33m(\u001b[0m\u001b[0mlen\u001b[0m\u001b[1;33m(\u001b[0m\u001b[0mtest_images\u001b[0m\u001b[1;33m)\u001b[0m\u001b[1;33m)\u001b[0m\u001b[1;33m:\u001b[0m\u001b[1;33m\u001b[0m\u001b[1;33m\u001b[0m\u001b[0m\n\u001b[0;32m     10\u001b[0m     \u001b[1;31m# Read each image in the test directory, preprocess it and extract its features.\u001b[0m\u001b[1;33m\u001b[0m\u001b[1;33m\u001b[0m\u001b[1;33m\u001b[0m\u001b[0m\n\u001b[1;32m---> 11\u001b[1;33m     \u001b[0mimg_original\u001b[0m \u001b[1;33m=\u001b[0m \u001b[0mread_image\u001b[0m\u001b[1;33m(\u001b[0m\u001b[0mtest_images\u001b[0m\u001b[1;33m[\u001b[0m\u001b[0mi\u001b[0m\u001b[1;33m]\u001b[0m\u001b[1;33m)\u001b[0m\u001b[1;33m\u001b[0m\u001b[1;33m\u001b[0m\u001b[0m\n\u001b[0m\u001b[0;32m     12\u001b[0m     \u001b[0mcomponents\u001b[0m \u001b[1;33m=\u001b[0m \u001b[0mfind_regionprop\u001b[0m\u001b[1;33m(\u001b[0m\u001b[0mimg_original\u001b[0m\u001b[1;33m)\u001b[0m\u001b[1;33m\u001b[0m\u001b[1;33m\u001b[0m\u001b[0m\n\u001b[0;32m     13\u001b[0m     \u001b[0mtest_point\u001b[0m \u001b[1;33m=\u001b[0m \u001b[0mextract_features\u001b[0m\u001b[1;33m(\u001b[0m\u001b[0mcomponents\u001b[0m\u001b[1;33m)\u001b[0m\u001b[1;33m\u001b[0m\u001b[1;33m\u001b[0m\u001b[0m\n",
      "\u001b[1;32m<ipython-input-3-9d2de539dfc6>\u001b[0m in \u001b[0;36mread_image\u001b[1;34m(path)\u001b[0m\n\u001b[0;32m      1\u001b[0m \u001b[1;32mdef\u001b[0m \u001b[0mread_image\u001b[0m\u001b[1;33m(\u001b[0m\u001b[0mpath\u001b[0m\u001b[1;33m)\u001b[0m\u001b[1;33m:\u001b[0m\u001b[1;33m\u001b[0m\u001b[1;33m\u001b[0m\u001b[0m\n\u001b[1;32m----> 2\u001b[1;33m     \u001b[0mgray\u001b[0m \u001b[1;33m=\u001b[0m \u001b[0mrgb2gray\u001b[0m\u001b[1;33m(\u001b[0m\u001b[0mio\u001b[0m\u001b[1;33m.\u001b[0m\u001b[0mimread\u001b[0m\u001b[1;33m(\u001b[0m\u001b[0mpath\u001b[0m\u001b[1;33m)\u001b[0m\u001b[1;33m)\u001b[0m\u001b[1;33m\u001b[0m\u001b[1;33m\u001b[0m\u001b[0m\n\u001b[0m\u001b[0;32m      3\u001b[0m     \u001b[1;31m# gray = gaussian(gray,1)\u001b[0m\u001b[1;33m\u001b[0m\u001b[1;33m\u001b[0m\u001b[1;33m\u001b[0m\u001b[0m\n\u001b[0;32m      4\u001b[0m     \u001b[0mthresh\u001b[0m \u001b[1;33m=\u001b[0m \u001b[0mthreshold_sauvola\u001b[0m\u001b[1;33m(\u001b[0m\u001b[0mgray\u001b[0m\u001b[1;33m,\u001b[0m \u001b[0mwindow_size\u001b[0m\u001b[1;33m=\u001b[0m\u001b[1;36m61\u001b[0m\u001b[1;33m)\u001b[0m\u001b[1;33m\u001b[0m\u001b[1;33m\u001b[0m\u001b[0m\n\u001b[0;32m      5\u001b[0m     \u001b[0mnormalize\u001b[0m \u001b[1;33m=\u001b[0m \u001b[0mgray\u001b[0m \u001b[1;33m>\u001b[0m \u001b[0mthresh\u001b[0m\u001b[1;33m\u001b[0m\u001b[1;33m\u001b[0m\u001b[0m\n",
      "\u001b[1;32mD:\\Setups\\Anaconda\\lib\\site-packages\\skimage\\io\\_io.py\u001b[0m in \u001b[0;36mimread\u001b[1;34m(fname, as_gray, plugin, **plugin_args)\u001b[0m\n\u001b[0;32m     46\u001b[0m \u001b[1;33m\u001b[0m\u001b[0m\n\u001b[0;32m     47\u001b[0m     \u001b[1;32mwith\u001b[0m \u001b[0mfile_or_url_context\u001b[0m\u001b[1;33m(\u001b[0m\u001b[0mfname\u001b[0m\u001b[1;33m)\u001b[0m \u001b[1;32mas\u001b[0m \u001b[0mfname\u001b[0m\u001b[1;33m:\u001b[0m\u001b[1;33m\u001b[0m\u001b[1;33m\u001b[0m\u001b[0m\n\u001b[1;32m---> 48\u001b[1;33m         \u001b[0mimg\u001b[0m \u001b[1;33m=\u001b[0m \u001b[0mcall_plugin\u001b[0m\u001b[1;33m(\u001b[0m\u001b[1;34m'imread'\u001b[0m\u001b[1;33m,\u001b[0m \u001b[0mfname\u001b[0m\u001b[1;33m,\u001b[0m \u001b[0mplugin\u001b[0m\u001b[1;33m=\u001b[0m\u001b[0mplugin\u001b[0m\u001b[1;33m,\u001b[0m \u001b[1;33m**\u001b[0m\u001b[0mplugin_args\u001b[0m\u001b[1;33m)\u001b[0m\u001b[1;33m\u001b[0m\u001b[1;33m\u001b[0m\u001b[0m\n\u001b[0m\u001b[0;32m     49\u001b[0m \u001b[1;33m\u001b[0m\u001b[0m\n\u001b[0;32m     50\u001b[0m     \u001b[1;32mif\u001b[0m \u001b[1;32mnot\u001b[0m \u001b[0mhasattr\u001b[0m\u001b[1;33m(\u001b[0m\u001b[0mimg\u001b[0m\u001b[1;33m,\u001b[0m \u001b[1;34m'ndim'\u001b[0m\u001b[1;33m)\u001b[0m\u001b[1;33m:\u001b[0m\u001b[1;33m\u001b[0m\u001b[1;33m\u001b[0m\u001b[0m\n",
      "\u001b[1;32mD:\\Setups\\Anaconda\\lib\\site-packages\\skimage\\io\\manage_plugins.py\u001b[0m in \u001b[0;36mcall_plugin\u001b[1;34m(kind, *args, **kwargs)\u001b[0m\n\u001b[0;32m    208\u001b[0m                                (plugin, kind))\n\u001b[0;32m    209\u001b[0m \u001b[1;33m\u001b[0m\u001b[0m\n\u001b[1;32m--> 210\u001b[1;33m     \u001b[1;32mreturn\u001b[0m \u001b[0mfunc\u001b[0m\u001b[1;33m(\u001b[0m\u001b[1;33m*\u001b[0m\u001b[0margs\u001b[0m\u001b[1;33m,\u001b[0m \u001b[1;33m**\u001b[0m\u001b[0mkwargs\u001b[0m\u001b[1;33m)\u001b[0m\u001b[1;33m\u001b[0m\u001b[1;33m\u001b[0m\u001b[0m\n\u001b[0m\u001b[0;32m    211\u001b[0m \u001b[1;33m\u001b[0m\u001b[0m\n\u001b[0;32m    212\u001b[0m \u001b[1;33m\u001b[0m\u001b[0m\n",
      "\u001b[1;32mD:\\Setups\\Anaconda\\lib\\site-packages\\skimage\\io\\_plugins\\imageio_plugin.py\u001b[0m in \u001b[0;36mimread\u001b[1;34m(*args, **kwargs)\u001b[0m\n\u001b[0;32m      8\u001b[0m \u001b[1;33m@\u001b[0m\u001b[0mwraps\u001b[0m\u001b[1;33m(\u001b[0m\u001b[0mimageio_imread\u001b[0m\u001b[1;33m)\u001b[0m\u001b[1;33m\u001b[0m\u001b[1;33m\u001b[0m\u001b[0m\n\u001b[0;32m      9\u001b[0m \u001b[1;32mdef\u001b[0m \u001b[0mimread\u001b[0m\u001b[1;33m(\u001b[0m\u001b[1;33m*\u001b[0m\u001b[0margs\u001b[0m\u001b[1;33m,\u001b[0m \u001b[1;33m**\u001b[0m\u001b[0mkwargs\u001b[0m\u001b[1;33m)\u001b[0m\u001b[1;33m:\u001b[0m\u001b[1;33m\u001b[0m\u001b[1;33m\u001b[0m\u001b[0m\n\u001b[1;32m---> 10\u001b[1;33m     \u001b[1;32mreturn\u001b[0m \u001b[0mnp\u001b[0m\u001b[1;33m.\u001b[0m\u001b[0masarray\u001b[0m\u001b[1;33m(\u001b[0m\u001b[0mimageio_imread\u001b[0m\u001b[1;33m(\u001b[0m\u001b[1;33m*\u001b[0m\u001b[0margs\u001b[0m\u001b[1;33m,\u001b[0m \u001b[1;33m**\u001b[0m\u001b[0mkwargs\u001b[0m\u001b[1;33m)\u001b[0m\u001b[1;33m)\u001b[0m\u001b[1;33m\u001b[0m\u001b[1;33m\u001b[0m\u001b[0m\n\u001b[0m",
      "\u001b[1;32mD:\\Setups\\Anaconda\\lib\\site-packages\\imageio\\core\\functions.py\u001b[0m in \u001b[0;36mimread\u001b[1;34m(uri, format, **kwargs)\u001b[0m\n\u001b[0;32m    263\u001b[0m \u001b[1;33m\u001b[0m\u001b[0m\n\u001b[0;32m    264\u001b[0m     \u001b[1;31m# Get reader and read first\u001b[0m\u001b[1;33m\u001b[0m\u001b[1;33m\u001b[0m\u001b[1;33m\u001b[0m\u001b[0m\n\u001b[1;32m--> 265\u001b[1;33m     \u001b[0mreader\u001b[0m \u001b[1;33m=\u001b[0m \u001b[0mread\u001b[0m\u001b[1;33m(\u001b[0m\u001b[0muri\u001b[0m\u001b[1;33m,\u001b[0m \u001b[0mformat\u001b[0m\u001b[1;33m,\u001b[0m \u001b[1;34m\"i\"\u001b[0m\u001b[1;33m,\u001b[0m \u001b[1;33m**\u001b[0m\u001b[0mkwargs\u001b[0m\u001b[1;33m)\u001b[0m\u001b[1;33m\u001b[0m\u001b[1;33m\u001b[0m\u001b[0m\n\u001b[0m\u001b[0;32m    266\u001b[0m     \u001b[1;32mwith\u001b[0m \u001b[0mreader\u001b[0m\u001b[1;33m:\u001b[0m\u001b[1;33m\u001b[0m\u001b[1;33m\u001b[0m\u001b[0m\n\u001b[0;32m    267\u001b[0m         \u001b[1;32mreturn\u001b[0m \u001b[0mreader\u001b[0m\u001b[1;33m.\u001b[0m\u001b[0mget_data\u001b[0m\u001b[1;33m(\u001b[0m\u001b[1;36m0\u001b[0m\u001b[1;33m)\u001b[0m\u001b[1;33m\u001b[0m\u001b[1;33m\u001b[0m\u001b[0m\n",
      "\u001b[1;32mD:\\Setups\\Anaconda\\lib\\site-packages\\imageio\\core\\functions.py\u001b[0m in \u001b[0;36mget_reader\u001b[1;34m(uri, format, mode, **kwargs)\u001b[0m\n\u001b[0;32m    179\u001b[0m     \u001b[1;32mif\u001b[0m \u001b[0mformat\u001b[0m \u001b[1;32mis\u001b[0m \u001b[1;32mNone\u001b[0m\u001b[1;33m:\u001b[0m\u001b[1;33m\u001b[0m\u001b[1;33m\u001b[0m\u001b[0m\n\u001b[0;32m    180\u001b[0m         \u001b[0mmodename\u001b[0m \u001b[1;33m=\u001b[0m \u001b[0mMODENAMES\u001b[0m\u001b[1;33m.\u001b[0m\u001b[0mget\u001b[0m\u001b[1;33m(\u001b[0m\u001b[0mmode\u001b[0m\u001b[1;33m,\u001b[0m \u001b[0mmode\u001b[0m\u001b[1;33m)\u001b[0m\u001b[1;33m\u001b[0m\u001b[1;33m\u001b[0m\u001b[0m\n\u001b[1;32m--> 181\u001b[1;33m         raise ValueError(\n\u001b[0m\u001b[0;32m    182\u001b[0m             \u001b[1;34m\"Could not find a format to read the specified file in %s mode\"\u001b[0m \u001b[1;33m%\u001b[0m \u001b[0mmodename\u001b[0m\u001b[1;33m\u001b[0m\u001b[1;33m\u001b[0m\u001b[0m\n\u001b[0;32m    183\u001b[0m         )\n",
      "\u001b[1;31mValueError\u001b[0m: Could not find a format to read the specified file in single-image mode"
     ]
    }
   ],
   "source": [
    "### Run this after implementing the model functions\n",
    "\n",
    "### DO NOT CHANGE THESE VALUES ###\n",
    "test_images = sorted(glob.glob('test/*'))\n",
    "\n",
    "true_values = [1,1,2,3,0,4,5,6,7,8,8,8,9,10,11,11,12,13,14, 15] #,15]\n",
    "\n",
    "knns = []\n",
    "for i in range(len(test_images)):\n",
    "    # Read each image in the test directory, preprocess it and extract its features.\n",
    "    img_original = read_image(test_images[i])\n",
    "    components = find_regionprop(img_original)\n",
    "    test_point = extract_features(components)\n",
    "    \n",
    "    # Visualize each test figure. \n",
    "    fig = plt.figure()\n",
    "    plt.imshow(img_original)\n",
    "    plt.axis(\"off\")\n",
    "    plt.show()\n",
    "    \n",
    "    # Print the actual class of each test figure. \n",
    "    print(\"Actual class :\", shapes[true_values[i]])\n",
    "    print(\"---------------------------------------\")\n",
    "\n",
    "    # ------------------------------------------------------------------------------------------------------\n",
    "    # TODO 18: Calculate the prediction of each classifier (Minimum Distance, Nearest Neighbour, K-Nearest Neighbour)\n",
    "    k = 3 ## Question: what will happen if we increase the value of k?\n",
    "    knn_prediction = KNN(test_point,training_features,y_train,k)\n",
    "    knns.append(knn_prediction)\n",
    "    \n",
    "    \n",
    "    # ------------------------------------------------------------------------------------------------------\n",
    "\n",
    "    print(\"K-Nearest Neighbours Prediction          :\", shapes[knn_prediction])\n",
    "    print(\"===========================================================================\")\n",
    "    "
   ]
  },
  {
   "cell_type": "code",
   "execution_count": 23,
   "metadata": {},
   "outputs": [
    {
     "name": "stdout",
     "output_type": "stream",
     "text": [
      "K-Nearest Neighbour Classifier Accuracy:  0.8 %\n"
     ]
    }
   ],
   "source": [
    "# ------------------------------------------------------------------------------------------------------\n",
    "# TODO 19 : Calculate the number of total predictions (the size of the test set) (~1 line)\n",
    "total_predictions = np.array(test_images).shape[0]\n",
    "# ------------------------------------------------------------------------------------------------------\n",
    "\n",
    "\n",
    "# ------------------------------------------------------------------------------------------------------\n",
    "# TODO 20 : Calculate the number of correct predictions for MDC, NN and KNN. (~ 3 lines)\n",
    "# Hint: You may need to add very simple code in the previous cell\n",
    "# (e.g. store predictions in some array for each classifier)\n",
    "correct_knn = 0\n",
    "for i in range(len(true_values)):\n",
    "    if true_values[i] == knns[i]:\n",
    "        correct_knn+=1\n",
    "\n",
    "# ------------------------------------------------------------------------------------------------------\n",
    "\n",
    "# ------------------------------------------------------------------------------------------------------\n",
    "# TODO 21 : Calculate the accuracy for each of MDC, NN and KNN (~ 3 lines)\n",
    "accuracy_knn = correct_knn/len(true_values)\n",
    "# ------------------------------------------------------------------------------------------------------\n",
    "\n",
    "\n",
    "print(\"K-Nearest Neighbour Classifier Accuracy: \", accuracy_knn, \"%\")"
   ]
  },
  {
   "cell_type": "code",
   "execution_count": null,
   "metadata": {},
   "outputs": [],
   "source": []
  }
 ],
 "metadata": {
  "kernelspec": {
   "display_name": "Python 3",
   "language": "python",
   "name": "python3"
  },
  "language_info": {
   "codemirror_mode": {
    "name": "ipython",
    "version": 3
   },
   "file_extension": ".py",
   "mimetype": "text/x-python",
   "name": "python",
   "nbconvert_exporter": "python",
   "pygments_lexer": "ipython3",
   "version": "3.8.3"
  }
 },
 "nbformat": 4,
 "nbformat_minor": 4
}
